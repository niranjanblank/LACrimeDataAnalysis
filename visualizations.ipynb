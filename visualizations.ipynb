{
 "cells": [
  {
   "cell_type": "code",
   "execution_count": 2,
   "metadata": {
    "collapsed": true,
    "ExecuteTime": {
     "end_time": "2023-07-17T12:50:39.508792200Z",
     "start_time": "2023-07-17T12:50:39.296365500Z"
    }
   },
   "outputs": [],
   "source": [
    "import psycopg2\n",
    "import pandas as pd\n",
    "import os\n",
    "from dotenv import load_dotenv\n"
   ]
  },
  {
   "cell_type": "code",
   "execution_count": 3,
   "outputs": [
    {
     "data": {
      "text/plain": "True"
     },
     "execution_count": 3,
     "metadata": {},
     "output_type": "execute_result"
    }
   ],
   "source": [
    "# loading the env to get database credentials\n",
    "load_dotenv()"
   ],
   "metadata": {
    "collapsed": false,
    "ExecuteTime": {
     "end_time": "2023-07-17T12:50:41.423166900Z",
     "start_time": "2023-07-17T12:50:41.417132700Z"
    }
   }
  },
  {
   "cell_type": "code",
   "execution_count": 4,
   "outputs": [],
   "source": [
    "# Getting the db credentials from .env file\n",
    "DB_NAME = os.getenv('DB_NAME')\n",
    "DB_USER = os.getenv('DB_USER')\n",
    "DB_PASSWORD  = os.getenv('DB_PASSWORD')\n",
    "DB_HOST = os.getenv('DB_HOST')"
   ],
   "metadata": {
    "collapsed": false,
    "ExecuteTime": {
     "end_time": "2023-07-17T12:50:42.333975600Z",
     "start_time": "2023-07-17T12:50:42.330972700Z"
    }
   }
  },
  {
   "cell_type": "code",
   "execution_count": 12,
   "outputs": [],
   "source": [],
   "metadata": {
    "collapsed": false,
    "ExecuteTime": {
     "end_time": "2023-07-17T12:51:56.539846100Z",
     "start_time": "2023-07-17T12:51:56.536340300Z"
    }
   }
  },
  {
   "cell_type": "code",
   "execution_count": 13,
   "outputs": [],
   "source": [
    "# connecting to the database\n",
    "conn = psycopg2.connect(\n",
    "    dbname=DB_NAME,\n",
    "    user=DB_USER,\n",
    "    password=DB_PASSWORD,\n",
    "    host=DB_HOST\n",
    ")\n",
    "cur = conn.cursor()"
   ],
   "metadata": {
    "collapsed": false,
    "ExecuteTime": {
     "end_time": "2023-07-17T12:52:56.200340600Z",
     "start_time": "2023-07-17T12:52:56.176711100Z"
    }
   }
  },
  {
   "cell_type": "markdown",
   "source": [
    "## 1. What is the most common type of crime (based on 'Crm Cd Desc') in each area (based on 'AREA NAME')?"
   ],
   "metadata": {
    "collapsed": false
   }
  },
  {
   "cell_type": "code",
   "execution_count": null,
   "outputs": [],
   "source": [
    "# sql query required\n",
    "sql_query = '''\n",
    "WITH crime_counts AS (\n",
    "select area_name, crm_cd_desc,\n",
    "count(*) as count_per_area_per_crime,\n",
    "ROW_NUMBER() OVER (PARTITION BY area_name ORDER BY COUNT(*) DESC) as rn\n",
    "from la_crime\n",
    "group by area_name,crm_cd_desc\n",
    ")\n",
    "\n",
    "SELECT area_name, crm_cd_desc as most_common_crime, count_per_area_per_crime\n",
    "from crime_counts\n",
    "    where rn=1;\n",
    "'''\n",
    "df = pd.read_sql_query(sql_query, conn)\n"
   ],
   "metadata": {
    "collapsed": false
   }
  },
  {
   "cell_type": "code",
   "execution_count": 15,
   "outputs": [
    {
     "data": {
      "text/plain": "      area_name         most_common_crime  count_per_area_per_crime\n0   77th Street          VEHICLE - STOLEN                      5671\n1       Central     BURGLARY FROM VEHICLE                      6552\n2    Devonshire          VEHICLE - STOLEN                      2706\n3      Foothill          VEHICLE - STOLEN                      3002\n4        Harbor          VEHICLE - STOLEN                      4033\n5    Hollenbeck          VEHICLE - STOLEN                      4295\n6     Hollywood  BATTERY - SIMPLE ASSAULT                      3387\n7       Mission          VEHICLE - STOLEN                      3861\n8   N Hollywood          VEHICLE - STOLEN                      3301\n9        Newton          VEHICLE - STOLEN                      5486\n10    Northeast          VEHICLE - STOLEN                      3695\n11      Olympic          VEHICLE - STOLEN                      3904\n12      Pacific          VEHICLE - STOLEN                      4366\n13      Rampart          VEHICLE - STOLEN                      3579\n14    Southeast          VEHICLE - STOLEN                      4875\n15    Southwest          VEHICLE - STOLEN                      4207\n16      Topanga                  BURGLARY                      2441\n17     Van Nuys          VEHICLE - STOLEN                      3073\n18      West LA                  BURGLARY                      3430\n19  West Valley          VEHICLE - STOLEN                      2838\n20     Wilshire                  BURGLARY                      2799",
      "text/html": "<div>\n<style scoped>\n    .dataframe tbody tr th:only-of-type {\n        vertical-align: middle;\n    }\n\n    .dataframe tbody tr th {\n        vertical-align: top;\n    }\n\n    .dataframe thead th {\n        text-align: right;\n    }\n</style>\n<table border=\"1\" class=\"dataframe\">\n  <thead>\n    <tr style=\"text-align: right;\">\n      <th></th>\n      <th>area_name</th>\n      <th>most_common_crime</th>\n      <th>count_per_area_per_crime</th>\n    </tr>\n  </thead>\n  <tbody>\n    <tr>\n      <th>0</th>\n      <td>77th Street</td>\n      <td>VEHICLE - STOLEN</td>\n      <td>5671</td>\n    </tr>\n    <tr>\n      <th>1</th>\n      <td>Central</td>\n      <td>BURGLARY FROM VEHICLE</td>\n      <td>6552</td>\n    </tr>\n    <tr>\n      <th>2</th>\n      <td>Devonshire</td>\n      <td>VEHICLE - STOLEN</td>\n      <td>2706</td>\n    </tr>\n    <tr>\n      <th>3</th>\n      <td>Foothill</td>\n      <td>VEHICLE - STOLEN</td>\n      <td>3002</td>\n    </tr>\n    <tr>\n      <th>4</th>\n      <td>Harbor</td>\n      <td>VEHICLE - STOLEN</td>\n      <td>4033</td>\n    </tr>\n    <tr>\n      <th>5</th>\n      <td>Hollenbeck</td>\n      <td>VEHICLE - STOLEN</td>\n      <td>4295</td>\n    </tr>\n    <tr>\n      <th>6</th>\n      <td>Hollywood</td>\n      <td>BATTERY - SIMPLE ASSAULT</td>\n      <td>3387</td>\n    </tr>\n    <tr>\n      <th>7</th>\n      <td>Mission</td>\n      <td>VEHICLE - STOLEN</td>\n      <td>3861</td>\n    </tr>\n    <tr>\n      <th>8</th>\n      <td>N Hollywood</td>\n      <td>VEHICLE - STOLEN</td>\n      <td>3301</td>\n    </tr>\n    <tr>\n      <th>9</th>\n      <td>Newton</td>\n      <td>VEHICLE - STOLEN</td>\n      <td>5486</td>\n    </tr>\n    <tr>\n      <th>10</th>\n      <td>Northeast</td>\n      <td>VEHICLE - STOLEN</td>\n      <td>3695</td>\n    </tr>\n    <tr>\n      <th>11</th>\n      <td>Olympic</td>\n      <td>VEHICLE - STOLEN</td>\n      <td>3904</td>\n    </tr>\n    <tr>\n      <th>12</th>\n      <td>Pacific</td>\n      <td>VEHICLE - STOLEN</td>\n      <td>4366</td>\n    </tr>\n    <tr>\n      <th>13</th>\n      <td>Rampart</td>\n      <td>VEHICLE - STOLEN</td>\n      <td>3579</td>\n    </tr>\n    <tr>\n      <th>14</th>\n      <td>Southeast</td>\n      <td>VEHICLE - STOLEN</td>\n      <td>4875</td>\n    </tr>\n    <tr>\n      <th>15</th>\n      <td>Southwest</td>\n      <td>VEHICLE - STOLEN</td>\n      <td>4207</td>\n    </tr>\n    <tr>\n      <th>16</th>\n      <td>Topanga</td>\n      <td>BURGLARY</td>\n      <td>2441</td>\n    </tr>\n    <tr>\n      <th>17</th>\n      <td>Van Nuys</td>\n      <td>VEHICLE - STOLEN</td>\n      <td>3073</td>\n    </tr>\n    <tr>\n      <th>18</th>\n      <td>West LA</td>\n      <td>BURGLARY</td>\n      <td>3430</td>\n    </tr>\n    <tr>\n      <th>19</th>\n      <td>West Valley</td>\n      <td>VEHICLE - STOLEN</td>\n      <td>2838</td>\n    </tr>\n    <tr>\n      <th>20</th>\n      <td>Wilshire</td>\n      <td>BURGLARY</td>\n      <td>2799</td>\n    </tr>\n  </tbody>\n</table>\n</div>"
     },
     "execution_count": 15,
     "metadata": {},
     "output_type": "execute_result"
    }
   ],
   "source": [
    "df"
   ],
   "metadata": {
    "collapsed": false,
    "ExecuteTime": {
     "end_time": "2023-07-17T12:53:07.460897700Z",
     "start_time": "2023-07-17T12:53:07.457857100Z"
    }
   }
  },
  {
   "cell_type": "code",
   "execution_count": null,
   "outputs": [],
   "source": [],
   "metadata": {
    "collapsed": false
   }
  }
 ],
 "metadata": {
  "kernelspec": {
   "display_name": "Python 3",
   "language": "python",
   "name": "python3"
  },
  "language_info": {
   "codemirror_mode": {
    "name": "ipython",
    "version": 2
   },
   "file_extension": ".py",
   "mimetype": "text/x-python",
   "name": "python",
   "nbconvert_exporter": "python",
   "pygments_lexer": "ipython2",
   "version": "2.7.6"
  }
 },
 "nbformat": 4,
 "nbformat_minor": 0
}
